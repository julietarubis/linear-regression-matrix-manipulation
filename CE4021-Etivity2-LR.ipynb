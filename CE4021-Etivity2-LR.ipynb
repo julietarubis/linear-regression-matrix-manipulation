{
 "cells": [
  {
   "cell_type": "markdown",
   "metadata": {},
   "source": [
    "## Notebook E-tivity 2 CE4021 Linear Regression"
   ]
  },
  {
   "cell_type": "markdown",
   "metadata": {},
   "source": [
    "<hr style=\"border:2px solid gray\"> </hr>"
   ]
  },
  {
   "cell_type": "markdown",
   "metadata": {},
   "source": [
    "## Task\n",
    "<hr>\n",
    "You may add as many cells as you require to complete this task.\n",
    "\n",
    "Perform Task 1 in Jupyter Notebook <b>CE4021-Etivity2-LR.ipynb</b> provided in the repository for this E-tivity. This notebook contains a reference implementation of linear regression, a simple but very effective machine learning algorithm that we will discuss in more detail during the next semester."
   ]
  },
  {
   "cell_type": "markdown",
   "metadata": {},
   "source": [
    "## Goal\n",
    "<hr>\n",
    "\n",
    "The goal of this task is to create your own implementation of linear regression using your own functions to implement the required matrix manipulations.\n",
    "\n",
    "Inspect the reference implementation and create functions for all the matrix manipulations required to implement the linear regression algorithm.\n",
    "\n",
    "1. Use these matrix manipulation functions in a new function that takes the data (X) and outputs (y) and returns the least squares estimate of the linear regression weight vector. Call this function <b>'fit'</b>.\n",
    "2. Create a second function that uses the weights found by the fit method and a number of data points X to create new predictions. Call this function <b>'predict'</b>.\n",
    "3. Finally, create a function that returns the weights found by the fit method. Call this function <b>'get_params'</b>."
   ]
  },
  {
   "cell_type": "markdown",
   "metadata": {},
   "source": [
    "## Imports"
   ]
  },
  {
   "cell_type": "code",
   "execution_count": 7,
   "metadata": {},
   "outputs": [],
   "source": [
    "import numpy as np\n",
    "import matplotlib.pyplot as plt"
   ]
  },
  {
   "cell_type": "markdown",
   "metadata": {},
   "source": [
    "If you believe required imports are missing, please contact your moderator."
   ]
  },
  {
   "cell_type": "markdown",
   "metadata": {},
   "source": [
    "<hr style=\"border:2px solid gray\"> </hr>"
   ]
  },
  {
   "cell_type": "markdown",
   "metadata": {},
   "source": [
    "## Reference Implementation"
   ]
  },
  {
   "cell_type": "code",
   "execution_count": 70,
   "metadata": {},
   "outputs": [],
   "source": [
    "def linreg_weights(X,y):\n",
    "    # Calculation of weights using pseudo-inverse. Note that X needs to contain the bias of 1\n",
    "    return np.linalg.inv((X.T.dot(X))).dot(X.T).dot(y)"
   ]
  },
  {
   "cell_type": "code",
   "execution_count": 71,
   "metadata": {},
   "outputs": [],
   "source": [
    "def linreg_predict(w,X):\n",
    "    # Calculation of outputs given weights and data (X). Note that X needs to contain the bias of 1. \n",
    "    out=[]\n",
    "    for x in X:\n",
    "        out.append(w.T.dot(x))\n",
    "    return np.array(out)"
   ]
  },
  {
   "cell_type": "markdown",
   "metadata": {},
   "source": [
    "Load data from file (including bias of 1)"
   ]
  },
  {
   "cell_type": "code",
   "execution_count": 75,
   "metadata": {},
   "outputs": [],
   "source": [
    "data = np.loadtxt('lr_data.csv', delimiter=',')\n",
    "X = data[:,0:2]\n",
    "y= [[data[i,2]] for i in range(0,len(data[:,2]))]"
   ]
  },
  {
   "cell_type": "markdown",
   "metadata": {},
   "source": [
    "Apply data to linear regression algorithm to obtain weights"
   ]
  },
  {
   "cell_type": "code",
   "execution_count": 76,
   "metadata": {},
   "outputs": [
    {
     "data": {
      "text/plain": [
       "array([[-99.46431881],\n",
       "       [564.20389249]])"
      ]
     },
     "execution_count": 76,
     "metadata": {},
     "output_type": "execute_result"
    }
   ],
   "source": [
    "weights = linreg_weights(X,y)\n",
    "weights"
   ]
  },
  {
   "cell_type": "code",
   "execution_count": 77,
   "metadata": {},
   "outputs": [
    {
     "data": {
      "text/plain": [
       "(0.0, 3.0, -100.0, 1500.0)"
      ]
     },
     "execution_count": 77,
     "metadata": {},
     "output_type": "execute_result"
    },
    {
     "data": {
      "image/png": "[encoded data removed]",
      "text/plain": [
       "<Figure size 432x288 with 1 Axes>"
      ]
     },
     "metadata": {
      "needs_background": "light"
     },
     "output_type": "display_data"
    }
   ],
   "source": [
    "ind = np.arange(0,2.8,0.1)\n",
    "plt.plot(X[:,1],y,'.')\n",
    "plt.plot(ind, ind*weights[1]+weights[0],'r')\n",
    "plt.axis([0, 3, -100, 1500])"
   ]
  },
  {
   "cell_type": "markdown",
   "metadata": {},
   "source": [
    "<hr style=\"border:2px solid gray\"> </hr>"
   ]
  },
  {
   "cell_type": "markdown",
   "metadata": {},
   "source": [
    "## Matrix Multiplication Function (mat_mult)"
   ]
  },
  {
   "cell_type": "markdown",
   "metadata": {},
   "source": [
    "- This function takes two matrices, A and B, as input.\n",
    "- It first checks if the number of columns in matrix A equals the number of rows in matrix B. If not, it raises a ValueError.\n",
    "- It initializes a result matrix with the number of rows from A and the number of columns from B, filled with zeros.\n",
    "- It then performs matrix multiplication using three nested loops and stores the result in the result matrix.\n",
    "- Finally, it returns the result matrix, which is the product of matrices A and B."
   ]
  },
  {
   "cell_type": "markdown",
   "metadata": {},
   "source": [
    "## Matrix Transpose Function (transpose)"
   ]
  },
  {
   "cell_type": "markdown",
   "metadata": {},
   "source": [
    "- This function takes a matrix mat as input.\n",
    "- It uses a list comprehension to create a new matrix where the rows of the original matrix become the columns of the transposed matrix.\n",
    "- The result is a transposed matrix."
   ]
  },
  {
   "cell_type": "markdown",
   "metadata": {},
   "source": [
    "## 2x2 Matrix Inverse Function (inverse_2x2)"
   ]
  },
  {
   "cell_type": "markdown",
   "metadata": {},
   "source": [
    "- This function calculates the inverse of a 2x2 matrix.\n",
    "- It checks if the input matrix is 2x2, raising a ValueError if not.\n",
    "- It calculates the determinant of the 2x2 matrix.\n",
    "- If the determinant is zero, it raises a ValueError because the matrix is singular and cannot be inverted.\n",
    "- If the determinant is nonzero, it calculates the inverse using the formula for a 2x2 matrix inverse.\n",
    "- It returns the inverse matrix."
   ]
  },
  {
   "cell_type": "code",
   "execution_count": 92,
   "metadata": {},
   "outputs": [
    {
     "name": "stdout",
     "output_type": "stream",
     "text": [
      "[[4, 6], [10, 12]]\n",
      "[[1, 4, 7], [2, 5, 8], [3, 6, 9]]\n",
      "[[-2.0, 1.0], [1.5, -0.5]]\n"
     ]
    }
   ],
   "source": [
    "def mat_mult(A, B):\n",
    "    \"\"\"\n",
    "    Multiply two matrices.\n",
    "    \n",
    "    Args:\n",
    "    - A (list of lists): First matrix.\n",
    "    - B (list of lists): Second matrix.\n",
    "\n",
    "    Returns:\n",
    "    - result (list of lists): Product of A and B.\n",
    "    \"\"\"\n",
    "    if len(A[0]) != len(B):\n",
    "        raise ValueError(\"Number of A columns must equal number of B rows.\")\n",
    "\n",
    "    result = [[0 for _ in range(len(B[0]))] for _ in range(len(A))]\n",
    "\n",
    "    for i in range(len(A)):\n",
    "        for j in range(len(B[0])):\n",
    "            for k in range(len(B)):\n",
    "                result[i][j] += A[i][k] * B[k][j]\n",
    "\n",
    "    return result\n",
    "\n",
    "def transpose(mat):\n",
    "    \"\"\"\n",
    "    Transpose a matrix.\n",
    "    \n",
    "    Args:\n",
    "    - mat (list of lists): Input matrix.\n",
    "\n",
    "    Returns:\n",
    "    - (list of lists): Transposed matrix.\n",
    "    \"\"\"\n",
    "    return [[row[i] for row in mat] for i in range(len(mat[0]))]\n",
    "\n",
    "def inverse_2x2(mat):\n",
    "    \"\"\"\n",
    "    Compute the inverse of a 2x2 matrix.\n",
    "    \n",
    "    Args:\n",
    "    - mat (list of lists): 2x2 matrix.\n",
    "\n",
    "    Returns:\n",
    "    - (list of lists): Inverse of the matrix.\n",
    "    \"\"\"\n",
    "    if len(mat) != 2 or len(mat[0]) != 2:\n",
    "        raise ValueError(\"Matrix should be 2x2.\")\n",
    "\n",
    "    det = mat[0][0] * mat[1][1] - mat[0][1] * mat[1][0]\n",
    "    \n",
    "    if det == 0:\n",
    "        raise ValueError(\"Matrix is singular and cannot be inverted.\")\n",
    "    \n",
    "    inv_det = 1.0 / det\n",
    "\n",
    "    return [\n",
    "        [mat[1][1] * inv_det, -mat[0][1] * inv_det],\n",
    "        [-mat[1][0] * inv_det, mat[0][0] * inv_det]\n",
    "    ]\n",
    "\n",
    "# Test matrix multiplication\n",
    "A = [[1, 2], [3, 4]]\n",
    "B = [[2, 0], [1, 3]]\n",
    "print(mat_mult(A, B))  # Expected output: [[4, 6], [10, 12]]\n",
    "\n",
    "# Test matrix transpose\n",
    "mat = [[1, 2, 3], [4, 5, 6], [7, 8, 9]]\n",
    "print(transpose(mat))  # Expected output: [[1, 4, 7], [2, 5, 8], [3, 6, 9]]\n",
    "\n",
    "# Test 2x2 matrix inverse\n",
    "matrix = [[1, 2], [3, 4]]\n",
    "print(inverse_2x2(matrix))  # Expected output: [[-2.0, 1.0], [1.5, -0.5]]"
   ]
  },
  {
   "cell_type": "markdown",
   "metadata": {},
   "source": [
    "## Matrix addition in Python using nested lists. "
   ]
  },
  {
   "cell_type": "code",
   "execution_count": 90,
   "metadata": {},
   "outputs": [
    {
     "name": "stdout",
     "output_type": "stream",
     "text": [
      "[[3, 2], [4, 7]]\n"
     ]
    }
   ],
   "source": [
    "def mat_add(A, B):\n",
    "    \"\"\"\n",
    "    Add two matrices.\n",
    "    \n",
    "    Args:\n",
    "    - A (list of lists): First matrix.\n",
    "    - B (list of lists): Second matrix.\n",
    "\n",
    "    Returns:\n",
    "    - result (list of lists): Sum of A and B.\n",
    "    \"\"\"\n",
    "    if len(A) != len(B) or len(A[0]) != len(B[0]):\n",
    "        raise ValueError(\"Matrices must have the same dimensions.\")\n",
    "\n",
    "    result = [[0 for _ in range(len(A[0]))] for _ in range(len(A))]\n",
    "\n",
    "    for i in range(len(A)):\n",
    "        for j in range(len(A[0])):\n",
    "            result[i][j] = A[i][j] + B[i][j]\n",
    "\n",
    "    return result\n",
    "\n",
    "# Test matrix addition\n",
    "A = [[1, 2], [3, 4]]\n",
    "B = [[2, 0], [1, 3]]\n",
    "print(mat_add(A, B))  # Expected output: [[3, 2], [4, 7]]\n"
   ]
  },
  {
   "cell_type": "markdown",
   "metadata": {},
   "source": [
    "## Matrix subtraction in Python using nested lists. "
   ]
  },
  {
   "cell_type": "code",
   "execution_count": 89,
   "metadata": {},
   "outputs": [
    {
     "name": "stdout",
     "output_type": "stream",
     "text": [
      "[[3, 2], [4, 4]]\n"
     ]
    }
   ],
   "source": [
    "def mat_sub(A, B):\n",
    "    \"\"\"\n",
    "    Subtract matrix B from matrix A.\n",
    "    \n",
    "    Args:\n",
    "    - A (list of lists): First matrix.\n",
    "    - B (list of lists): Second matrix.\n",
    "\n",
    "    Returns:\n",
    "    - result (list of lists): Result of A - B.\n",
    "    \"\"\"\n",
    "    if len(A) != len(B) or len(A[0]) != len(B[0]):\n",
    "        raise ValueError(\"Matrices must have the same dimensions.\")\n",
    "\n",
    "    result = [[0 for _ in range(len(A[0]))] for _ in range(len(A))]\n",
    "\n",
    "    for i in range(len(A)):\n",
    "        for j in range(len(A[0])):\n",
    "            result[i][j] = A[i][j] - B[i][j]\n",
    "\n",
    "    return result\n",
    "\n",
    "# Test matrix subtraction\n",
    "A = [[5, 3], [8, 6]]\n",
    "B = [[2, 1], [4, 2]]\n",
    "print(mat_sub(A, B))  # Expected output: [[3, 2], [4, 4]]"
   ]
  },
  {
   "cell_type": "markdown",
   "metadata": {},
   "source": [
    "## Linear Regression Model Fitting Function (fit)"
   ]
  },
  {
   "cell_type": "markdown",
   "metadata": {},
   "source": [
    "- This function fits a linear regression model to the data.\n",
    "- It adds a bias term (a column of ones) to the input data matrix X.\n",
    "- It calculates the transpose of X.\n",
    "- It calculates the weight vector 'w' using the least squares estimate formula.\n",
    "- It involves matrix multiplications and inversions.\n",
    "- It returns the weight vector 'w', which represents the model parameters."
   ]
  },
  {
   "cell_type": "markdown",
   "metadata": {},
   "source": [
    "## Linear Regression Model Prediction Function (predict)"
   ]
  },
  {
   "cell_type": "markdown",
   "metadata": {},
   "source": [
    "- This function predicts target values using the fitted linear regression model.\n",
    "- It also adds a bias term to the input data matrix X.\n",
    "- It performs matrix multiplication between X and the weight vector 'w' to make predictions.\n",
    "- It returns the predicted values."
   ]
  },
  {
   "cell_type": "markdown",
   "metadata": {},
   "source": [
    "## Get Model Parameters Function (get_params)"
   ]
  },
  {
   "cell_type": "markdown",
   "metadata": {},
   "source": [
    "- This function simply returns the weight vector 'w', which contains the model parameters."
   ]
  },
  {
   "cell_type": "code",
   "execution_count": 44,
   "metadata": {},
   "outputs": [],
   "source": [
    "def fit(X, y):\n",
    "    \"\"\"\n",
    "    Fit a linear regression model using the least squares estimate.\n",
    "    \n",
    "    Args:\n",
    "    - X (list of lists): Data matrix.\n",
    "    - y (list of lists): Output matrix.\n",
    "\n",
    "    Returns:\n",
    "    - w (list of lists): Weight vector.\n",
    "    \"\"\"\n",
    "    # Adding bias term\n",
    "    X = [[1] + row for row in X]\n",
    "\n",
    "    X_T = transpose(X)\n",
    "\n",
    "    # Calculate weight vector using formula: w = pseudo_inverse(X^T * X) * X^T * y\n",
    "    pseudo_inv = np.linalg.pinv(mat_mult(X_T, X)).tolist()\n",
    "    w = mat_mult(mat_mult(pseudo_inv, X_T), y)\n",
    "    \n",
    "    return w\n",
    "\n",
    "def predict(X, w):\n",
    "    \"\"\"\n",
    "    Predict using a linear regression model.\n",
    "    \n",
    "    Args:\n",
    "    - X (list of lists): Data matrix.\n",
    "    - w (list of lists): Weight vector.\n",
    "\n",
    "    Returns:\n",
    "    - (list of lists): Predicted values.\n",
    "    \"\"\"\n",
    "    # Adding bias term\n",
    "    X = [[1] + row for row in X]\n",
    "\n",
    "    return mat_mult(X, w)\n",
    "\n",
    "def get_params(w):\n",
    "    \"\"\"\n",
    "    Return the parameters of the model.\n",
    "    \n",
    "    Args:\n",
    "    - w (list of lists): Weight vector.\n",
    "\n",
    "    Returns:\n",
    "    - (list of lists): Model parameters.\n",
    "    \"\"\"\n",
    "    return w\n"
   ]
  },
  {
   "cell_type": "markdown",
   "metadata": {},
   "source": [
    "## Principal Components Analysis (PCA) using Scikit-learn"
   ]
  },
  {
   "cell_type": "code",
   "execution_count": 105,
   "metadata": {},
   "outputs": [
    {
     "data": {
      "image/png": "[encoded data removed]",
      "text/plain": [
       "<Figure size 432x288 with 1 Axes>"
      ]
     },
     "metadata": {
      "needs_background": "light"
     },
     "output_type": "display_data"
    }
   ],
   "source": [
    "import numpy as np\n",
    "import matplotlib.pyplot as plt\n",
    "\n",
    "def fit(X, y):\n",
    "    \"\"\"\n",
    "    Fit a linear regression model using the pseudo-inverse.\n",
    "    \n",
    "    Args:\n",
    "    - X (numpy array): Data matrix.\n",
    "    - y (numpy array): Output matrix.\n",
    "\n",
    "    Returns:\n",
    "    - w (numpy array): Weight vector.\n",
    "    \"\"\"\n",
    "    # Adding bias term\n",
    "    X = np.hstack((np.ones((X.shape[0], 1)), X))\n",
    "    X_T = np.transpose(X)\n",
    "    \n",
    "    # Calculate weight vector using formula: w = pseudo_inverse(X^T * X) * X^T * y\n",
    "    pseudo_inv = np.linalg.pinv(np.matmul(X_T, X))\n",
    "    w = np.matmul(np.matmul(pseudo_inv, X_T), y)\n",
    "    \n",
    "    return w\n",
    "\n",
    "def predict(X, w):\n",
    "    \"\"\"\n",
    "    Predict using a linear regression model.\n",
    "    \n",
    "    Args:\n",
    "    - X (numpy array): Data matrix.\n",
    "    - w (numpy array): Weight vector.\n",
    "\n",
    "    Returns:\n",
    "    - (numpy array): Predicted values.\n",
    "    \"\"\"\n",
    "    # Adding bias term\n",
    "    X = np.hstack((np.ones((X.shape[0], 1)), X))\n",
    "    return np.matmul(X, w)\n",
    "\n",
    "# Load dataset\n",
    "data = pd.read_csv('lr_data.csv')\n",
    "\n",
    "# Assuming the last column is the target variable and the rest are features\n",
    "X = data.iloc[:, :-1].values\n",
    "y = data.iloc[:, -1].values\n",
    "\n",
    "# Standardize the features\n",
    "X = StandardScaler().fit_transform(X)\n",
    "\n",
    "# Apply PCA on standardized data. (2 components just as an example, adjust as needed)\n",
    "pca = PCA(n_components=2)\n",
    "X_pca = pca.fit_transform(X)\n",
    "\n",
    "# Fit the linear regression model on the PCA transformed data\n",
    "weights = fit(X_pca, y)\n",
    "\n",
    "# Predicting the values\n",
    "predictions = predict(X_pca, weights)\n",
    "\n",
    "# Plotting\n",
    "plt.scatter(X_pca[:, 0], y, color='blue', label='Data points')\n",
    "x_vals = np.linspace(min(X_pca[:, 0]), max(X_pca[:, 0]), 100)\n",
    "y_vals = weights[0] + weights[1] * x_vals\n",
    "plt.plot(x_vals, y_vals, color='red', label='Regression line')\n",
    "\n",
    "plt.xlabel('Principal Component 1')\n",
    "plt.ylabel('Target Variable')\n",
    "plt.title('Linear Regression on PCA Transformed Data')\n",
    "plt.legend()\n",
    "plt.grid(True)\n",
    "plt.show()\n"
   ]
  },
  {
   "cell_type": "markdown",
   "metadata": {},
   "source": [
    "<hr style=\"border:2px solid gray\"> </hr>"
   ]
  },
  {
   "cell_type": "markdown",
   "metadata": {},
   "source": [
    "## Reflection"
   ]
  },
  {
   "cell_type": "markdown",
   "metadata": {},
   "source": [
    "Write your reflection in below cell."
   ]
  },
  {
   "cell_type": "markdown",
   "metadata": {},
   "source": [
    "## Matrix Multiplication mat_mult(A, B)"
   ]
  },
  {
   "cell_type": "markdown",
   "metadata": {},
   "source": [
    "Matrix operations like multiplication, transposition, and finding the inverse of a 2x2 matrix. The implementations are straightforward and follow the mathematical definitions of these operations. Error checks are included to handle scenarios like incompatible matrices for multiplication or non-invertible matrices."
   ]
  },
  {
   "cell_type": "markdown",
   "metadata": {},
   "source": [
    "## Linear Regression Fit  fit(X, y)"
   ]
  },
  {
   "cell_type": "markdown",
   "metadata": {},
   "source": [
    "This function fits a linear regression model using the least squares method. While the implementation is straightforward, it does make a strong assumption that the input matrix X (after adding the bias term) is 2x2, which might not be the case for many datasets."
   ]
  },
  {
   "cell_type": "markdown",
   "metadata": {},
   "source": [
    "## Linear Regression Predict predict(X, w)"
   ]
  },
  {
   "cell_type": "markdown",
   "metadata": {},
   "source": [
    "This function seems somewhat redundant as it simply returns its input. Its utility might depend on a larger context or framework where encapsulation of model parameters is needed, but from the provided code alone, it's unclear why one might need such a function."
   ]
  },
  {
   "cell_type": "markdown",
   "metadata": {},
   "source": [
    "## Implementation of a Linear Regression Model"
   ]
  },
  {
   "cell_type": "markdown",
   "metadata": {},
   "source": [
    " A custom implementation of a linear regression model. The model uses the pseudo-inverse method to determine the optimal weights for the regression line. This is a simple and direct method, especially when the data is not very large, and we have more data points than features.\n",
    "\n",
    "The dataset undergoes standardization, followed by PCA to reduce its dimensionality. Then, a linear regression model is fit to the transformed data.\n",
    "\n",
    "While this approach showcases the basic steps of linear regression and PCA, in real-world applications, one might also want to consider splitting the dataset into training and testing sets, evaluating the model's performance using appropriate metrics, and possibly doing cross-validation. Additionally, while using PCA is a good approach for visualization or if the dataset has a large number of features."
   ]
  },
  {
   "cell_type": "markdown",
   "metadata": {},
   "source": [
    "## Reference: "
   ]
  },
  {
   "cell_type": "markdown",
   "metadata": {},
   "source": [
    "VanderPlas, Jake. “Python Data Science Handbook | Python Data Science Handbook.” Github.io, 2019, jakevdp.github.io/PythonDataScienceHandbook/.\n",
    "\n",
    "Maulud, Dastan, and Adnan M. Abdulazeez. “A Review on Linear Regression Comprehensive in Machine Learning.” Journal of Applied Science and Technology Trends, vol. 1, no. 4, 31 Dec. 2020, pp. 140–147, jastt.org/index.php/jasttpath/article/view/57, https://doi.org/10.38094/jastt1457."
   ]
  }
 ],
 "metadata": {
  "kernelspec": {
   "display_name": "Python 3 (ipykernel)",
   "language": "python",
   "name": "python3"
  },
  "language_info": {
   "codemirror_mode": {
    "name": "ipython",
    "version": 3
   },
   "file_extension": ".py",
   "mimetype": "text/x-python",
   "name": "python",
   "nbconvert_exporter": "python",
   "pygments_lexer": "ipython3",
   "version": "3.11.4"
  }
 },
 "nbformat": 4,
 "nbformat_minor": 2
}
